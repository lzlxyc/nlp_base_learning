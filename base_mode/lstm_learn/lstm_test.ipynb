{
 "cells": [
  {
   "cell_type": "code",
   "outputs": [
    {
     "data": {
      "text/plain": "1"
     },
     "execution_count": 1,
     "metadata": {},
     "output_type": "execute_result"
    }
   ],
   "source": [
    "1"
   ],
   "metadata": {
    "collapsed": false,
    "ExecuteTime": {
     "end_time": "2024-03-10T15:08:28.373767900Z",
     "start_time": "2024-03-10T15:08:28.319913Z"
    }
   },
   "execution_count": 1
  },
  {
   "cell_type": "code",
   "outputs": [],
   "source": [
    "import pandas as pd\n",
    "import numpy as np\n",
    "import matplotlib\n",
    "import matplotlib.pyplot as plt\n",
    "import torch\n",
    "from torch import nn\n",
    "from torch.nn import LSTM, GRU, LSTMCell\n",
    "import os\n",
    "\n",
    "# 一次完整的迭代\n",
    "def train_once(model, criterion, opt, x, y_true):\n",
    "    \"\"\"对模型进行一次迭代\n",
    "    :param model: 实例化后的模型\n",
    "    :param criterion: 损失函数\n",
    "    :param opt: 优化算法\n",
    "    :param x:\n",
    "    :param y:\n",
    "    \"\"\"\n",
    "    opt.zero_grad(set_to_none=True)  # 设置梯度为None节省内存\n",
    "    y_pred = model(x)\n",
    "    loss = criterion(y_pred, y_true)\n",
    "    loss.backward()\n",
    "    opt.step()\n",
    "    return y_pred.detach().cpu().numpy(), loss.item()\n",
    "\n",
    "\n",
    "def test_once(model, criterion, x, y_true):\n",
    "    \"\"\"进行一次测试，阻止计算图追踪,节省内存，加快速度\n",
    "    :param model:\n",
    "    :param criterion:\n",
    "    :param opt:\n",
    "    :param x:\n",
    "    :param y_true:\n",
    "    \"\"\"\n",
    "    with torch.no_grad():\n",
    "        y_pred = model(x)\n",
    "        loss = criterion(y_pred, y_true)\n",
    "        return y_pred.detach().cpu().numpy(), loss.item()\n",
    "\n",
    "\n",
    "def plotloss(train_loss_list, test_loss_list, is_loss=True):\n",
    "    plt.figure(figsize=(10, 7))\n",
    "    plt.plot(train_loss_list, color='red', label='Train_loss' if is_loss else 'pred_values')\n",
    "    plt.plot(test_loss_list, color='blue', label='Test_loss' if is_loss else 'true_values')\n",
    "    plt.xlabel('Epochs')\n",
    "    plt.ylabel('loss')\n",
    "    plt.legend()\n",
    "    plt.show()\n",
    "    if not os.path.exists('./pic'):\n",
    "        os.mkdir('./pic')\n",
    "    plt.savefig('./pic/loss.png' if is_loss else './picpred_true.png', dpi=400)\n",
    "\n",
    "\n",
    "\n",
    "# 定义提前停止损失函数\n",
    "class EarlyStopping():\n",
    "    \"\"\"\n",
    "    在测试集上的损失连续几个epochs不在降低时，提前停止\n",
    "    \"\"\"\n",
    "    def __init__(self, patiende=5, tol=0.000005):\n",
    "        \"\"\"\n",
    "        :param patiende:连续 patiende个epoch上损失不再降低，停止迭代\n",
    "        :param tol: 当前损失和旧损失的差值小于tol，就认定为模型不再提升\n",
    "        \"\"\"\n",
    "        self.patience = patiende\n",
    "        self.tol = tol\n",
    "        self.counter = 0\n",
    "        self.lowest_loss = None\n",
    "        self.early_stop = False\n",
    "\n",
    "    def __call__(self, val_loss):\n",
    "        if not self.lowest_loss:\n",
    "            self.lowest_loss = val_loss\n",
    "        elif self.lowest_loss - val_loss > self.tol:\n",
    "            self.counter = 0\n",
    "            self.lowest_loss = val_loss\n",
    "        elif self.lowest_loss - val_loss <= self.tol:\n",
    "            self.counter += 1\n",
    "            print(f\"\\t NOTICE: Early stopping counter {self.counter} of {self.patience}\")\n",
    "            if self.counter >= self.patience:\n",
    "                print(\"\\t NOTICE: Early Stopping Actived\")\n",
    "                self.early_stop = True\n",
    "\n",
    "        return self.early_stop\n",
    "\n",
    "\n",
    "# %%\n",
    "# 训练与测试的函数\n",
    "def fit(model, batch_train, batch_test, criterion, optimizer, scheduler, epochs, patiende=5, tol=0.000005,\n",
    "        save_model_path='./model/', model_name='lstm'):\n",
    "    \"\"\"\n",
    "    对模型进行训练，在每个epoch上监控模型训练效果\n",
    "    :param model:\n",
    "    :param batchdata:\n",
    "    :param testdata:\n",
    "    :param criterion:\n",
    "    :param optimizer:\n",
    "    :param epochs:\n",
    "    :param tol:\n",
    "    :param model_name:\n",
    "    :param path:\n",
    "    :return:\n",
    "    \"\"\"\n",
    "    if not os.path.exists(save_model_path):\n",
    "        os.mkdir(save_model_path)\n",
    "    all_train_num = len(batch_train.dataset)\n",
    "    all_test_num = len(batch_test.dataset)\n",
    "    print(\"开始训练..............................\")\n",
    "    print(\"\\tall_train_num:\", all_train_num, \"\\tall_test_num\", all_test_num)\n",
    "    train_loss_list = []\n",
    "    test_loss_list = []\n",
    "    early_stopping = EarlyStopping(patiende, tol)\n",
    "    best_score = None\n",
    "    best_epoch = 0\n",
    "    bset_epoch_predictions, bset_epoch_true_values = [], []\n",
    "\n",
    "    for epoch in range(1, epochs + 1):\n",
    "        # 训练\n",
    "        model.train()\n",
    "        train_num = 0\n",
    "        loss_train = 0\n",
    "        for idx, (x, y) in enumerate(batch_train, 1):\n",
    "            _, loss = train_once(model, criterion, optimizer, x, y)\n",
    "            loss_train += loss * x.size(0)\n",
    "            train_num += x.shape[0]\n",
    "            # # 监控训练过程\n",
    "            # if idx % 100 == 0:\n",
    "            #     print(f\"Epoch:{epoch}, train_num:{train_num}\")\n",
    "\n",
    "        loss_train = loss_train / all_train_num\n",
    "        train_loss_list.append(loss_train)\n",
    "\n",
    "        model.eval()\n",
    "        epoch_predictions = []\n",
    "        epoch_true_values = []\n",
    "\n",
    "        loss_test = 0\n",
    "        for x, y in batch_test:\n",
    "            y_pred, loss = test_once(model, criterion, x, y)\n",
    "            loss_test += loss * x.size(0)\n",
    "            epoch_predictions.append(y_pred)\n",
    "            epoch_true_values.append(y.numpy())\n",
    "\n",
    "        epoch_predictions = np.concatenate(epoch_predictions, axis=0)\n",
    "        epoch_true_values = np.concatenate(epoch_true_values, axis=0)\n",
    "        rmse = np.sqrt(np.mean((epoch_predictions - epoch_true_values) ** 2))\n",
    "\n",
    "        loss_test = loss_test / all_test_num\n",
    "        plot_num = 2000\n",
    "        test_loss_list.append(loss_test)\n",
    "        # 对每一个epoch,打印训练和测试结果\n",
    "        print(f\"Epoch:{epoch}, Train_loss:{round(loss_train, 5)}, Test_loss:{round(loss_test, 5)}\", \"Rmse:\", rmse)\n",
    "        scheduler.step(loss_test)\n",
    "\n",
    "        # 对每一个epoch，保存分数最高的权重  这里用loss做评价指标\n",
    "        if not best_score or best_score > rmse:\n",
    "            best_epoch = epoch\n",
    "            best_score = rmse\n",
    "            torch.save(model.state_dict(), os.path.join(save_model_path, 'best_' + str(epoch) + model_name + '.pt'))\n",
    "            bset_epoch_predictions, bset_epoch_true_values = list(epoch_predictions.reshape(-1))[:plot_num], list(epoch_true_values.reshape(-1))[:plot_num]\n",
    "\n",
    "        early_stop = early_stopping(loss_test)\n",
    "        if early_stop: break\n",
    "\n",
    "    print(\"\\tBest_epoch\", best_epoch, \"\\tBest_loss:\", best_score)\n",
    "    print(\"Done\")\n",
    "\n",
    "    print(\"bset_epoch_predictions:\", bset_epoch_predictions, \"\\nbset_epoch_true_values:\",bset_epoch_true_values)\n",
    "    plotloss(bset_epoch_predictions, bset_epoch_true_values, is_loss=False)\n",
    "    plotloss(train_loss_list, test_loss_list)\n",
    "\n",
    "\n",
    "\n",
    "# 模型验证\n",
    "def MSE(Y_ture, Y_predict):\n",
    "    return (((Y_ture - Y_predict) ** 2).sum() / Y_ture.shape[0])**0.5"
   ],
   "metadata": {
    "collapsed": false,
    "ExecuteTime": {
     "end_time": "2024-03-10T15:08:50.061137900Z",
     "start_time": "2024-03-10T15:08:29.331209Z"
    }
   },
   "execution_count": 2
  },
  {
   "cell_type": "code",
   "outputs": [],
   "source": [
    "import random\n",
    "import numpy as np\n",
    "from torchinfo import summary\n",
    "import pandas as pd\n",
    "import numpy as np\n",
    "import matplotlib\n",
    "import matplotlib.pyplot as plt\n",
    "import torch\n",
    "from torch import nn\n",
    "from torch.nn import LSTM, GRU, LSTMCell\n",
    "# 定义优化器和损失函数\n",
    "from torch.optim.lr_scheduler import ReduceLROnPlateau\n",
    "from torch import optim\n",
    "from tqdm import tqdm\n",
    "from torch.utils.data import DataLoader\n",
    "from torch.utils.data import TensorDataset\n",
    "import os\n",
    "\n",
    "\n",
    "# 数据处理\n",
    "def load_data(topn=None):\n",
    "    # 创建包含数据的字典\n",
    "    path = 'F:/learning/nlp_base_learning/data/A榜-训练集_海上风电预测_气象变量及实际功率数据.csv'\n",
    "    path = 'F:/learning/power_prediction/ans/test_0.047370373032452714.csv'\n",
    "\n",
    "    df = pd.read_csv(path,encoding='utf-8',nrows=topn)\n",
    "    df = df[df['站点编号'] == 'f1']\n",
    "    df['时间'] = pd.to_datetime(df['时间'])\n",
    "\n",
    "    df['mooth'] = df['时间'].dt.month\n",
    "    df['hour'] = df['时间'].dt.hour\n",
    "\n",
    "    cols = ['气压(Pa）', '相对湿度（%）', '云量', '10米风速（10m/s）', '10米风向（°)',\n",
    "            '温度（K）', '辐照强度（J/m2）', '降水（m）', '100m风速（100m/s）', '100m风向（°)', '出力(MW)',\n",
    "            'mooth', 'hour']\n",
    "    df = df[df['出力(MW)'] != '<NULL>']\n",
    "    df = df[cols]\n",
    "    df['v^3'] = df['100m风速（100m/s）'].apply(lambda x:x*x*x)\n",
    "    df['1/tmp'] = df['温度（K）'].apply(lambda x:1/(x+0.0001))\n",
    "    df['new'] = df['v^3']*df['气压(Pa）']*df['1/tmp']\n",
    "\n",
    "    for col in df.columns:\n",
    "        df[col] = df[col].astype('float32')\n",
    "    print(df.columns)\n",
    "    # 打印输出整理后的数据框\n",
    "    from sklearn.preprocessing import MinMaxScaler\n",
    "    scaler = MinMaxScaler()\n",
    "    cols = df.columns.tolist()\n",
    "    df = scaler.fit_transform(df.values)\n",
    "    return pd.DataFrame(df,columns=cols)\n",
    "\n",
    "\n",
    "def creat_dataset(data, seq_len=96, label=None):\n",
    "    \"\"\"用特征对标签进行预测，只考虑特征之间的时序特性，没有利用标签之间的时序特性，进行建模的数据预处理方式\n",
    "    :param data: 训练数据\n",
    "    :param seq_len: 时间步\n",
    "    :param label: 预测的标签名\n",
    "    :return: \n",
    "    \"\"\"\n",
    "    feats = [feat for feat in data.columns if feat != label] if label else list(data.columns)\n",
    "    train_data, target = [], []\n",
    "    print('总数：',len(data),'步长：',seq_len)\n",
    "    for i in tqdm(range(0, len(data) - seq_len)):\n",
    "        x = data[i:i + seq_len][feats].values\n",
    "        y = data.iloc[i + seq_len][label] if label else []\n",
    "        train_data.append(x)\n",
    "        target.append(y)\n",
    "    return torch.tensor(np.array(train_data)), torch.tensor(np.array(target)).view(len(target), 1)\n",
    "\n",
    "\n",
    "def train_test_split(train_tensor, label_tensor, ratio=0.8):\n",
    "    train_size = int(len(train_tensor) * ratio)\n",
    "    x_train, y_train = train_tensor[:train_size], label_tensor[:train_size]\n",
    "    x_test, y_test = train_tensor[train_size:], label_tensor[train_size:]\n",
    "    return x_train, y_train, x_test, y_test\n",
    "\n"
   ],
   "metadata": {
    "collapsed": false,
    "ExecuteTime": {
     "end_time": "2024-03-10T15:55:57.361517800Z",
     "start_time": "2024-03-10T15:55:57.306664300Z"
    }
   },
   "execution_count": 52
  },
  {
   "cell_type": "code",
   "outputs": [
    {
     "name": "stdout",
     "output_type": "stream",
     "text": [
      "Index(['气压(Pa）', '相对湿度（%）', '云量', '10米风速（10m/s）', '10米风向（°)', '温度（K）',\n",
      "       '辐照强度（J/m2）', '降水（m）', '100m风速（100m/s）', '100m风向（°)', '出力(MW)', 'mooth',\n",
      "       'hour', 'v^3', '1/tmp', 'new'],\n",
      "      dtype='object')\n"
     ]
    }
   ],
   "source": [
    "df = load_data(100)"
   ],
   "metadata": {
    "collapsed": false,
    "ExecuteTime": {
     "end_time": "2024-03-10T16:13:49.800195500Z",
     "start_time": "2024-03-10T16:13:49.615578400Z"
    }
   },
   "execution_count": 54
  },
  {
   "cell_type": "code",
   "outputs": [],
   "source": [
    "import torch\n",
    "from torch import nn\n",
    "from torch.nn import LSTM, GRU, LSTMCell\n",
    "\n",
    "# 定义网路架构LSTM\n",
    "# input_size   hidden_size  num_layers out_size\n",
    "class LstmModel(nn.Module):\n",
    "    def __init__(self,input_size=12, hidden_size=50, num_layers=1, out_size=1, bidirectional=False, batch_first=True):\n",
    "        super().__init__()\n",
    "        self.num_layers = num_layers\n",
    "        self.hidden_size = hidden_size\n",
    "        self.bidirectional = 2 if bidirectional else 1\n",
    "        self.lstm = LSTM(input_size,hidden_size,num_layers,batch_first=batch_first, bidirectional=bidirectional)\n",
    "        self.dropout = nn.Dropout(0.3)\n",
    "        self.fc = nn.Linear(self.bidirectional*hidden_size, out_size)\n",
    "\n",
    "    def forward(self,x):\n",
    "        h0 = torch.randn(self.bidirectional*self.num_layers, x.size(0), self.hidden_size).requires_grad_()\n",
    "        c0 = torch.randn(self.bidirectional*self.num_layers, x.size(0), self.hidden_size).requires_grad_()\n",
    "        output, (_, _) = self.lstm(x, (h0.detach(), c0.detach()))\n",
    "        # output = output.contiguous().view(x.size(0), x.size(1), 2, self.hidden_size)\n",
    "        # output = torch.mean(output,dim=2)\n",
    "        # print(output.size())\n",
    "        output = self.dropout(output)\n",
    "        return self.fc(output[:,-1,:])\n",
    "\n",
    "\n",
    "\n",
    "# 构建双层LSTMcell\n",
    "# input_size, hidden_size, num_layers, output_size\n",
    "class LstmCellModel(nn.Module):\n",
    "    def __init__(self, input_size=1, hidden_size1=100, hidden_size2=50, output_size=1, dropout=0.1):\n",
    "        self.input_size = input_size\n",
    "        self.hidden_size1 = hidden_size1\n",
    "        self.hidden_size2 = hidden_size2\n",
    "        self.output_size = output_size\n",
    "        self.lstm0 = nn.LSTMCell(input_size, hidden_size1)\n",
    "        self.lstm1 = nn.LSTMCell(hidden_size1, hidden_size2)\n",
    "        self.fc = nn.Linear(hidden_size2, output_size)\n",
    "        self.dropout = nn.Dropout(dropout)\n",
    "\n",
    "    def forward(self, x):\n",
    "        batch_size, seq_len = x.size(0), x.size(1)\n",
    "        # 四个初始化参数\n",
    "        h_10 = torch.randon(batch_size, seq_len, self.hidden_size1).requires_grad_()\n",
    "        c_10 = torch.randon(batch_size, seq_len, self.hidden_size1).requires_grad_()\n",
    "        h_11 = torch.randon(batch_size, seq_len, self.hidden_size2).requires_grad_()\n",
    "        c_11 = torch.randon(batch_size, seq_len, self.hidden_size2).requires_grad_()\n",
    "\n",
    "        outputs = []\n",
    "        for t in range(seq_len):  # 遍历每个时间步\n",
    "            h_10, c_10 = self.lstm0(x[:, t, :], (h_10, c_10))\n",
    "            h_10, c_10 = self.dropout(h_10), self.dropout(c_10)\n",
    "            h_11, c_11 = self.lstm1(h_10, (h_11, c_11))\n",
    "            h_11, c_11 = self.dropout(h_11), self.dropout(c_11)\n",
    "\n",
    "            outputs.append(h_11)\n",
    "\n",
    "        return self.fc(outputs[-1])"
   ],
   "metadata": {
    "collapsed": false,
    "ExecuteTime": {
     "end_time": "2024-03-10T15:33:57.979912Z",
     "start_time": "2024-03-10T15:33:57.957969900Z"
    }
   },
   "execution_count": 33
  },
  {
   "cell_type": "code",
   "outputs": [],
   "source": [
    "import random\n",
    "import numpy as np\n",
    "from torchinfo import summary\n",
    "import pandas as pd\n",
    "import numpy as np\n",
    "import matplotlib\n",
    "import matplotlib.pyplot as plt\n",
    "import torch\n",
    "from torch import nn\n",
    "from torch.nn import LSTM, GRU, LSTMCell\n",
    "# 定义优化器和损失函数\n",
    "from torch.optim.lr_scheduler import ReduceLROnPlateau\n",
    "from torch import optim\n",
    "from tqdm import tqdm\n",
    "from torch.utils.data import DataLoader\n",
    "from torch.utils.data import TensorDataset\n",
    "import os\n",
    "from sklearn.preprocessing import MinMaxScaler"
   ],
   "metadata": {
    "collapsed": false,
    "ExecuteTime": {
     "end_time": "2024-03-10T15:34:04.521412900Z",
     "start_time": "2024-03-10T15:34:04.459579600Z"
    }
   },
   "execution_count": 34
  },
  {
   "cell_type": "code",
   "outputs": [],
   "source": [
    "# 设置全局的随机种子\n",
    "torch.manual_seed(1412)\n",
    "random.seed(1412)\n",
    "np.random.seed(1412)\n",
    "# 设置设备\n",
    "device = torch.device('cuda' if torch.cuda.is_available() else 'cpu')\n",
    "# 超参数设置\n",
    "input_size = 12\n",
    "hidden_size = 256\n",
    "num_layers = 2\n",
    "output_size = 1\n",
    "learning_rate = 0.1\n",
    "weight_decay = 1e-4\n",
    "num_epochs = 30\n",
    "batch_size= 30\n",
    "\n",
    "label = '出力(MW)'\n",
    "seq_len = 96"
   ],
   "metadata": {
    "collapsed": false,
    "ExecuteTime": {
     "end_time": "2024-03-10T15:34:05.218549400Z",
     "start_time": "2024-03-10T15:34:05.132778800Z"
    }
   },
   "execution_count": 35
  },
  {
   "cell_type": "code",
   "outputs": [
    {
     "name": "stdout",
     "output_type": "stream",
     "text": [
      "Index(['气压(Pa）', '相对湿度（%）', '云量', '10米风速（10m/s）', '10米风向（°)', '温度（K）',\n",
      "       '辐照强度（J/m2）', '降水（m）', '100m风速（100m/s）', '100m风向（°)', '出力(MW)', 'mooth',\n",
      "       'hour', 'v^3', '1/tmp', 'new'],\n",
      "      dtype='object')\n"
     ]
    }
   ],
   "source": [
    "df = load_data(100)\n",
    "input_size = len(df.columns) - 1"
   ],
   "metadata": {
    "collapsed": false,
    "ExecuteTime": {
     "end_time": "2024-03-10T16:13:57.139956600Z",
     "start_time": "2024-03-10T16:13:57.090089700Z"
    }
   },
   "execution_count": 55
  },
  {
   "cell_type": "code",
   "outputs": [
    {
     "name": "stdout",
     "output_type": "stream",
     "text": [
      "总数： 100 步长： 96\n"
     ]
    },
    {
     "name": "stderr",
     "output_type": "stream",
     "text": [
      "100%|██████████| 4/4 [00:00<00:00, 445.60it/s]\n"
     ]
    }
   ],
   "source": [
    "train_tensor, label_tensor = creat_dataset(df, seq_len, label=label)"
   ],
   "metadata": {
    "collapsed": false,
    "ExecuteTime": {
     "end_time": "2024-03-10T16:13:58.360740900Z",
     "start_time": "2024-03-10T16:13:58.308882100Z"
    }
   },
   "execution_count": 56
  },
  {
   "cell_type": "code",
   "outputs": [
    {
     "data": {
      "text/plain": "(torch.Size([4, 96, 15]), torch.Size([4, 1]))"
     },
     "execution_count": 57,
     "metadata": {},
     "output_type": "execute_result"
    }
   ],
   "source": [
    "train_tensor.shape,label_tensor.shape "
   ],
   "metadata": {
    "collapsed": false,
    "ExecuteTime": {
     "end_time": "2024-03-10T16:14:04.193184600Z",
     "start_time": "2024-03-10T16:14:04.166218300Z"
    }
   },
   "execution_count": 57
  },
  {
   "cell_type": "code",
   "outputs": [
    {
     "data": {
      "text/plain": "tensor([[0.7703],\n        [0.7806],\n        [1.0000],\n        [0.9557]])"
     },
     "execution_count": 58,
     "metadata": {},
     "output_type": "execute_result"
    }
   ],
   "source": [
    "label_tensor"
   ],
   "metadata": {
    "collapsed": false,
    "ExecuteTime": {
     "end_time": "2024-03-10T16:14:11.729076300Z",
     "start_time": "2024-03-10T16:14:11.683201400Z"
    }
   },
   "execution_count": 58
  },
  {
   "cell_type": "code",
   "outputs": [],
   "source": [
    "model = LstmModel(input_size, hidden_size, num_layers,output_size)"
   ],
   "metadata": {
    "collapsed": false,
    "ExecuteTime": {
     "end_time": "2024-03-10T15:35:45.761608700Z",
     "start_time": "2024-03-10T15:35:45.702767400Z"
    }
   },
   "execution_count": 47
  },
  {
   "cell_type": "code",
   "outputs": [],
   "source": [
    "output = model(train_tensor)"
   ],
   "metadata": {
    "collapsed": false,
    "ExecuteTime": {
     "end_time": "2024-03-10T15:35:46.331085300Z",
     "start_time": "2024-03-10T15:35:46.171513200Z"
    }
   },
   "execution_count": 48
  },
  {
   "cell_type": "code",
   "outputs": [
    {
     "data": {
      "text/plain": "torch.Size([4, 1])"
     },
     "execution_count": 49,
     "metadata": {},
     "output_type": "execute_result"
    }
   ],
   "source": [
    "output.shape"
   ],
   "metadata": {
    "collapsed": false,
    "ExecuteTime": {
     "end_time": "2024-03-10T15:35:46.649235100Z",
     "start_time": "2024-03-10T15:35:46.611336600Z"
    }
   },
   "execution_count": 49
  },
  {
   "cell_type": "code",
   "outputs": [
    {
     "data": {
      "text/plain": "array([[0.9933777 , 1.0000001 , 0.12672344, ..., 0.9452559 , 0.2447815 ,\n        0.9429912 ],\n       [1.        , 0.9971732 , 0.01498605, ..., 0.96645725, 0.33702087,\n        0.9649913 ],\n       [0.9906006 , 0.98988354, 0.04880779, ..., 0.9851136 , 0.41423035,\n        0.98427457],\n       ...,\n       [0.61782837, 0.        , 0.276691  , ..., 0.64154255, 0.01063538,\n        0.6375604 ],\n       [0.6145325 , 0.0038619 , 0.63991886, ..., 0.6635642 , 0.01457214,\n        0.65945977],\n       [0.60543823, 0.04548311, 1.        , ..., 0.6851301 , 0.02381897,\n        0.6809249 ]], dtype=float32)"
     },
     "execution_count": 29,
     "metadata": {},
     "output_type": "execute_result"
    }
   ],
   "source": [
    "from sklearn.preprocessing import MinMaxScaler\n",
    "scaler = MinMaxScaler()\n",
    "# 将数据进行归一化\n",
    "df = scaler.fit_transform(df.values)\n"
   ],
   "metadata": {
    "collapsed": false,
    "ExecuteTime": {
     "end_time": "2024-03-10T15:24:59.981856900Z",
     "start_time": "2024-03-10T15:24:59.927003400Z"
    }
   },
   "execution_count": 29
  },
  {
   "cell_type": "code",
   "outputs": [
    {
     "data": {
      "text/plain": "      气压(Pa）   相对湿度（%）        云量  10米风速（10m/s）  10米风向（°)     温度（K）  \\\n0   0.989288  0.704100  0.007812      0.501334  0.073666  0.936529   \n1   0.989312  0.703176  0.000924      0.505687  0.065491  0.935858   \n2   0.989278  0.700791  0.003009      0.509345  0.059848  0.935298   \n3   0.989200  0.697440  0.011402      0.511720  0.056221  0.934832   \n4   0.989088  0.693615  0.023438      0.512657  0.054131  0.934445   \n..       ...       ...       ...           ...       ...       ...   \n95  0.987937  0.445897  0.000000      0.388932  0.015082  0.938075   \n96  0.987951  0.397702  0.000000      0.390514  0.011599  0.938197   \n97  0.987955  0.376978  0.017058      0.391743  0.008970  0.938235   \n98  0.987944  0.378242  0.039451      0.392986  0.007096  0.938206   \n99  0.987911  0.391857  0.061650      0.394769  0.005768  0.938139   \n\n    辐照强度（J/m2）     降水（m）  100m风速（100m/s）  100m风向（°)    出力(MW)     mooth  \\\n0          0.0  0.000051        0.465858   0.076415  0.388476  0.083333   \n1          0.0  0.000051        0.468700   0.068653  0.377673  0.083333   \n2          0.0  0.000051        0.471172   0.063179  0.365744  0.083333   \n3          0.0  0.000051        0.472722   0.059548  0.345937  0.083333   \n4          0.0  0.000051        0.473127   0.057338  0.352014  0.083333   \n..         ...       ...             ...        ...       ...       ...   \n95         0.0  0.000011        0.410481   0.028425  0.267387  0.083333   \n96         0.0  0.000000        0.416190   0.025516  0.257259  0.083333   \n97         0.0  0.000000        0.420657   0.023387  0.214720  0.083333   \n98         0.0  0.000000        0.424269   0.021904  0.269638  0.083333   \n99         0.0  0.000000        0.427746   0.020857  0.343912  0.083333   \n\n        hour       v^3     1/tmp       new  \n0   0.000000  0.101102  0.962278  0.105563  \n1   0.000000  0.102964  0.962967  0.107586  \n2   0.000000  0.104602  0.963544  0.109360  \n3   0.000000  0.105637  0.964025  0.110488  \n4   0.043478  0.105909  0.964424  0.110806  \n..       ...       ...       ...       ...  \n95  1.000000  0.069164  0.960692  0.071998  \n96  0.000000  0.072090  0.960567  0.075035  \n97  0.000000  0.074436  0.960528  0.077475  \n98  0.000000  0.076370  0.960558  0.079489  \n99  0.000000  0.078263  0.960627  0.081463  \n\n[100 rows x 16 columns]",
      "text/html": "<div>\n<style scoped>\n    .dataframe tbody tr th:only-of-type {\n        vertical-align: middle;\n    }\n\n    .dataframe tbody tr th {\n        vertical-align: top;\n    }\n\n    .dataframe thead th {\n        text-align: right;\n    }\n</style>\n<table border=\"1\" class=\"dataframe\">\n  <thead>\n    <tr style=\"text-align: right;\">\n      <th></th>\n      <th>气压(Pa）</th>\n      <th>相对湿度（%）</th>\n      <th>云量</th>\n      <th>10米风速（10m/s）</th>\n      <th>10米风向（°)</th>\n      <th>温度（K）</th>\n      <th>辐照强度（J/m2）</th>\n      <th>降水（m）</th>\n      <th>100m风速（100m/s）</th>\n      <th>100m风向（°)</th>\n      <th>出力(MW)</th>\n      <th>mooth</th>\n      <th>hour</th>\n      <th>v^3</th>\n      <th>1/tmp</th>\n      <th>new</th>\n    </tr>\n  </thead>\n  <tbody>\n    <tr>\n      <th>0</th>\n      <td>0.989288</td>\n      <td>0.704100</td>\n      <td>0.007812</td>\n      <td>0.501334</td>\n      <td>0.073666</td>\n      <td>0.936529</td>\n      <td>0.0</td>\n      <td>0.000051</td>\n      <td>0.465858</td>\n      <td>0.076415</td>\n      <td>0.388476</td>\n      <td>0.083333</td>\n      <td>0.000000</td>\n      <td>0.101102</td>\n      <td>0.962278</td>\n      <td>0.105563</td>\n    </tr>\n    <tr>\n      <th>1</th>\n      <td>0.989312</td>\n      <td>0.703176</td>\n      <td>0.000924</td>\n      <td>0.505687</td>\n      <td>0.065491</td>\n      <td>0.935858</td>\n      <td>0.0</td>\n      <td>0.000051</td>\n      <td>0.468700</td>\n      <td>0.068653</td>\n      <td>0.377673</td>\n      <td>0.083333</td>\n      <td>0.000000</td>\n      <td>0.102964</td>\n      <td>0.962967</td>\n      <td>0.107586</td>\n    </tr>\n    <tr>\n      <th>2</th>\n      <td>0.989278</td>\n      <td>0.700791</td>\n      <td>0.003009</td>\n      <td>0.509345</td>\n      <td>0.059848</td>\n      <td>0.935298</td>\n      <td>0.0</td>\n      <td>0.000051</td>\n      <td>0.471172</td>\n      <td>0.063179</td>\n      <td>0.365744</td>\n      <td>0.083333</td>\n      <td>0.000000</td>\n      <td>0.104602</td>\n      <td>0.963544</td>\n      <td>0.109360</td>\n    </tr>\n    <tr>\n      <th>3</th>\n      <td>0.989200</td>\n      <td>0.697440</td>\n      <td>0.011402</td>\n      <td>0.511720</td>\n      <td>0.056221</td>\n      <td>0.934832</td>\n      <td>0.0</td>\n      <td>0.000051</td>\n      <td>0.472722</td>\n      <td>0.059548</td>\n      <td>0.345937</td>\n      <td>0.083333</td>\n      <td>0.000000</td>\n      <td>0.105637</td>\n      <td>0.964025</td>\n      <td>0.110488</td>\n    </tr>\n    <tr>\n      <th>4</th>\n      <td>0.989088</td>\n      <td>0.693615</td>\n      <td>0.023438</td>\n      <td>0.512657</td>\n      <td>0.054131</td>\n      <td>0.934445</td>\n      <td>0.0</td>\n      <td>0.000051</td>\n      <td>0.473127</td>\n      <td>0.057338</td>\n      <td>0.352014</td>\n      <td>0.083333</td>\n      <td>0.043478</td>\n      <td>0.105909</td>\n      <td>0.964424</td>\n      <td>0.110806</td>\n    </tr>\n    <tr>\n      <th>...</th>\n      <td>...</td>\n      <td>...</td>\n      <td>...</td>\n      <td>...</td>\n      <td>...</td>\n      <td>...</td>\n      <td>...</td>\n      <td>...</td>\n      <td>...</td>\n      <td>...</td>\n      <td>...</td>\n      <td>...</td>\n      <td>...</td>\n      <td>...</td>\n      <td>...</td>\n      <td>...</td>\n    </tr>\n    <tr>\n      <th>95</th>\n      <td>0.987937</td>\n      <td>0.445897</td>\n      <td>0.000000</td>\n      <td>0.388932</td>\n      <td>0.015082</td>\n      <td>0.938075</td>\n      <td>0.0</td>\n      <td>0.000011</td>\n      <td>0.410481</td>\n      <td>0.028425</td>\n      <td>0.267387</td>\n      <td>0.083333</td>\n      <td>1.000000</td>\n      <td>0.069164</td>\n      <td>0.960692</td>\n      <td>0.071998</td>\n    </tr>\n    <tr>\n      <th>96</th>\n      <td>0.987951</td>\n      <td>0.397702</td>\n      <td>0.000000</td>\n      <td>0.390514</td>\n      <td>0.011599</td>\n      <td>0.938197</td>\n      <td>0.0</td>\n      <td>0.000000</td>\n      <td>0.416190</td>\n      <td>0.025516</td>\n      <td>0.257259</td>\n      <td>0.083333</td>\n      <td>0.000000</td>\n      <td>0.072090</td>\n      <td>0.960567</td>\n      <td>0.075035</td>\n    </tr>\n    <tr>\n      <th>97</th>\n      <td>0.987955</td>\n      <td>0.376978</td>\n      <td>0.017058</td>\n      <td>0.391743</td>\n      <td>0.008970</td>\n      <td>0.938235</td>\n      <td>0.0</td>\n      <td>0.000000</td>\n      <td>0.420657</td>\n      <td>0.023387</td>\n      <td>0.214720</td>\n      <td>0.083333</td>\n      <td>0.000000</td>\n      <td>0.074436</td>\n      <td>0.960528</td>\n      <td>0.077475</td>\n    </tr>\n    <tr>\n      <th>98</th>\n      <td>0.987944</td>\n      <td>0.378242</td>\n      <td>0.039451</td>\n      <td>0.392986</td>\n      <td>0.007096</td>\n      <td>0.938206</td>\n      <td>0.0</td>\n      <td>0.000000</td>\n      <td>0.424269</td>\n      <td>0.021904</td>\n      <td>0.269638</td>\n      <td>0.083333</td>\n      <td>0.000000</td>\n      <td>0.076370</td>\n      <td>0.960558</td>\n      <td>0.079489</td>\n    </tr>\n    <tr>\n      <th>99</th>\n      <td>0.987911</td>\n      <td>0.391857</td>\n      <td>0.061650</td>\n      <td>0.394769</td>\n      <td>0.005768</td>\n      <td>0.938139</td>\n      <td>0.0</td>\n      <td>0.000000</td>\n      <td>0.427746</td>\n      <td>0.020857</td>\n      <td>0.343912</td>\n      <td>0.083333</td>\n      <td>0.000000</td>\n      <td>0.078263</td>\n      <td>0.960627</td>\n      <td>0.081463</td>\n    </tr>\n  </tbody>\n</table>\n<p>100 rows × 16 columns</p>\n</div>"
     },
     "execution_count": 28,
     "metadata": {},
     "output_type": "execute_result"
    }
   ],
   "source": [
    "df "
   ],
   "metadata": {
    "collapsed": false,
    "ExecuteTime": {
     "end_time": "2024-03-10T15:21:31.830891900Z",
     "start_time": "2024-03-10T15:21:31.768061600Z"
    }
   },
   "execution_count": 28
  },
  {
   "cell_type": "code",
   "outputs": [],
   "source": [],
   "metadata": {
    "collapsed": false,
    "ExecuteTime": {
     "end_time": "2024-03-10T14:41:15.340921300Z",
     "start_time": "2024-03-10T14:41:15.328953600Z"
    }
   },
   "execution_count": 35
  },
  {
   "cell_type": "code",
   "outputs": [],
   "source": [],
   "metadata": {
    "collapsed": false,
    "ExecuteTime": {
     "end_time": "2024-03-10T14:41:15.368846100Z",
     "start_time": "2024-03-10T14:41:15.345907700Z"
    }
   },
   "execution_count": 35
  },
  {
   "cell_type": "code",
   "outputs": [],
   "source": [],
   "metadata": {
    "collapsed": false,
    "ExecuteTime": {
     "end_time": "2024-03-10T14:41:15.396771500Z",
     "start_time": "2024-03-10T14:41:15.362862300Z"
    }
   },
   "execution_count": 35
  },
  {
   "cell_type": "code",
   "outputs": [],
   "source": [],
   "metadata": {
    "collapsed": false,
    "ExecuteTime": {
     "end_time": "2024-03-10T14:41:15.436665800Z",
     "start_time": "2024-03-10T14:41:15.398784200Z"
    }
   },
   "execution_count": 35
  },
  {
   "cell_type": "code",
   "outputs": [],
   "source": [],
   "metadata": {
    "collapsed": false,
    "ExecuteTime": {
     "end_time": "2024-03-10T14:41:15.455614700Z",
     "start_time": "2024-03-10T14:41:15.417717300Z"
    }
   },
   "execution_count": 35
  },
  {
   "cell_type": "code",
   "outputs": [],
   "source": [],
   "metadata": {
    "collapsed": false,
    "ExecuteTime": {
     "end_time": "2024-03-10T14:41:15.458608500Z",
     "start_time": "2024-03-10T14:41:15.434671200Z"
    }
   },
   "execution_count": 35
  },
  {
   "cell_type": "code",
   "outputs": [],
   "source": [],
   "metadata": {
    "collapsed": false,
    "ExecuteTime": {
     "end_time": "2024-03-10T14:41:15.500495Z",
     "start_time": "2024-03-10T14:41:15.463592800Z"
    }
   },
   "execution_count": 35
  },
  {
   "cell_type": "code",
   "outputs": [],
   "source": [],
   "metadata": {
    "collapsed": false,
    "ExecuteTime": {
     "end_time": "2024-03-10T14:41:15.522435600Z",
     "start_time": "2024-03-10T14:41:15.493513600Z"
    }
   },
   "execution_count": 35
  },
  {
   "cell_type": "code",
   "outputs": [],
   "source": [],
   "metadata": {
    "collapsed": false,
    "ExecuteTime": {
     "end_time": "2024-03-10T14:41:15.558339700Z",
     "start_time": "2024-03-10T14:41:15.523433400Z"
    }
   },
   "execution_count": 35
  },
  {
   "cell_type": "code",
   "outputs": [],
   "source": [],
   "metadata": {
    "collapsed": false,
    "ExecuteTime": {
     "end_time": "2024-03-10T14:41:15.587261700Z",
     "start_time": "2024-03-10T14:41:15.536398900Z"
    }
   },
   "execution_count": 35
  },
  {
   "cell_type": "code",
   "outputs": [],
   "source": [],
   "metadata": {
    "collapsed": false,
    "ExecuteTime": {
     "end_time": "2024-03-10T14:41:15.609203700Z",
     "start_time": "2024-03-10T14:41:15.566318700Z"
    }
   },
   "execution_count": 35
  },
  {
   "cell_type": "code",
   "outputs": [],
   "source": [],
   "metadata": {
    "collapsed": false,
    "ExecuteTime": {
     "end_time": "2024-03-10T14:41:15.646106100Z",
     "start_time": "2024-03-10T14:41:15.600228500Z"
    }
   },
   "execution_count": 35
  },
  {
   "cell_type": "code",
   "outputs": [],
   "source": [],
   "metadata": {
    "collapsed": false,
    "ExecuteTime": {
     "end_time": "2024-03-10T14:41:15.662063100Z",
     "start_time": "2024-03-10T14:41:15.636135300Z"
    }
   },
   "execution_count": 35
  },
  {
   "cell_type": "code",
   "outputs": [],
   "source": [],
   "metadata": {
    "collapsed": false,
    "ExecuteTime": {
     "end_time": "2024-03-10T14:41:15.708939200Z",
     "start_time": "2024-03-10T14:41:15.665055100Z"
    }
   },
   "execution_count": 35
  },
  {
   "cell_type": "code",
   "outputs": [],
   "source": [],
   "metadata": {
    "collapsed": false,
    "ExecuteTime": {
     "end_time": "2024-03-10T14:41:15.748829600Z",
     "start_time": "2024-03-10T14:41:15.700957900Z"
    }
   },
   "execution_count": 35
  },
  {
   "cell_type": "code",
   "outputs": [],
   "source": [],
   "metadata": {
    "collapsed": false,
    "ExecuteTime": {
     "end_time": "2024-03-10T14:41:15.750824700Z",
     "start_time": "2024-03-10T14:41:15.722899600Z"
    }
   },
   "execution_count": 35
  },
  {
   "cell_type": "code",
   "outputs": [],
   "source": [],
   "metadata": {
    "collapsed": false,
    "ExecuteTime": {
     "end_time": "2024-03-10T14:41:15.760798400Z",
     "start_time": "2024-03-10T14:41:15.739853400Z"
    }
   },
   "execution_count": 35
  },
  {
   "cell_type": "code",
   "outputs": [],
   "source": [],
   "metadata": {
    "collapsed": false,
    "ExecuteTime": {
     "end_time": "2024-03-10T14:41:15.855546700Z",
     "start_time": "2024-03-10T14:41:15.842582Z"
    }
   },
   "execution_count": 35
  },
  {
   "cell_type": "code",
   "outputs": [],
   "source": [],
   "metadata": {
    "collapsed": false,
    "ExecuteTime": {
     "end_time": "2024-03-10T14:41:15.887460400Z",
     "start_time": "2024-03-10T14:41:15.869508500Z"
    }
   },
   "execution_count": 35
  },
  {
   "cell_type": "code",
   "outputs": [],
   "source": [],
   "metadata": {
    "collapsed": false,
    "ExecuteTime": {
     "end_time": "2024-03-10T14:41:15.907406100Z",
     "start_time": "2024-03-10T14:41:15.896450600Z"
    }
   },
   "execution_count": 35
  },
  {
   "cell_type": "code",
   "outputs": [],
   "source": [],
   "metadata": {
    "collapsed": false,
    "ExecuteTime": {
     "end_time": "2024-03-10T14:41:15.918376300Z",
     "start_time": "2024-03-10T14:41:15.906408400Z"
    }
   },
   "execution_count": 35
  },
  {
   "cell_type": "code",
   "outputs": [],
   "source": [],
   "metadata": {
    "collapsed": false
   }
  }
 ],
 "metadata": {
  "kernelspec": {
   "display_name": "Python 3",
   "language": "python",
   "name": "python3"
  },
  "language_info": {
   "codemirror_mode": {
    "name": "ipython",
    "version": 2
   },
   "file_extension": ".py",
   "mimetype": "text/x-python",
   "name": "python",
   "nbconvert_exporter": "python",
   "pygments_lexer": "ipython2",
   "version": "2.7.6"
  }
 },
 "nbformat": 4,
 "nbformat_minor": 0
}
