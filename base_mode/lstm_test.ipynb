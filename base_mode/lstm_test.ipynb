{
 "cells": [
  {
   "cell_type": "code",
   "execution_count": 14,
   "metadata": {
    "collapsed": true,
    "pycharm": {
     "name": "#%%\n"
    }
   },
   "outputs": [],
   "source": [
    "import pandas as pd\n",
    "import numpy as np\n",
    "import matplotlib\n",
    "import matplotlib.pyplot as plt\n",
    "import torch\n",
    "from torch import nn\n",
    "from torch.nn import LSTM, GRU, LSTMCell"
   ]
  },
  {
   "cell_type": "code",
   "execution_count": 15,
   "outputs": [
    {
     "name": "stdout",
     "output_type": "stream",
     "text": [
      "         Date   Close\n",
      "0  2017-01-04  2742.0\n",
      "1  2017-01-05  2738.0\n"
     ]
    }
   ],
   "source": [
    "import pandas as pd\n",
    "\n",
    "# 创建包含数据的字典\n",
    "data = {\n",
    "    'Date': ['2017-01-04', '2017-01-05', '2017-01-06', '2017-01-10', '2017-01-11'],\n",
    "    'Close': [2742.0, 2738.0, 2740.0, 2748.0, 2745.0]\n",
    "}\n",
    "\n",
    "# 使用字典创建Pandas数据框\n",
    "df = pd.DataFrame(data)\n",
    "df = pd.concat([df]*100,axis=0)\n",
    "# 打印输出整理后的数据框\n",
    "print(df.head(2))"
   ],
   "metadata": {
    "collapsed": false,
    "pycharm": {
     "name": "#%%\n"
    }
   }
  },
  {
   "cell_type": "code",
   "execution_count": 16,
   "outputs": [],
   "source": [
    "# 数据准备\n",
    "time_data = df[['Close']].values.astype('float32')\n",
    "train_size = int(len(time_data) * 0.67)\n",
    "test_size = len(time_data) - train_size\n",
    "train, test = time_data[:train_size], time_data[train_size:]\n",
    "# 转为tensor[batch_size, seq_len, emb_size]\n",
    "train_tensor = torch.FloatTensor(train).view(-1, train.shape[0], 1)\n",
    "test_tensor = torch.FloatTensor(test).view(-1, test.shape[0], 1)"
   ],
   "metadata": {
    "collapsed": false,
    "pycharm": {
     "name": "#%%\n"
    }
   }
  },
  {
   "cell_type": "code",
   "execution_count": 22,
   "outputs": [
    {
     "data": {
      "text/plain": "torch.Size([1, 165, 1])"
     },
     "execution_count": 22,
     "metadata": {},
     "output_type": "execute_result"
    }
   ],
   "source": [
    "test_tensor.shape"
   ],
   "metadata": {
    "collapsed": false,
    "pycharm": {
     "name": "#%%\n"
    }
   }
  },
  {
   "cell_type": "code",
   "execution_count": 95,
   "outputs": [],
   "source": [
    "# 定义网路架构LSTM\n",
    "# input_size   hidden_size  num_layers out_size\n",
    "class LstmModel(nn.Module):\n",
    "    def __init__(self,input_size=1, hidden_size=50, num_layers=1, out_size=1, bidirectional=False, batch_first=True):\n",
    "        super().__init__()\n",
    "        self.num_layers = num_layers\n",
    "        self.hidden_size = hidden_size\n",
    "        self.bidirectional = 2 if bidirectional else 1\n",
    "        self.lstm = LSTM(input_size,hidden_size,num_layers,batch_first=batch_first, bidirectional=bidirectional)\n",
    "        self.fc = nn.Linear(self.bidirectional*hidden_size, out_size)\n",
    "\n",
    "    def forward(self,x):\n",
    "        h0 = torch.randn(self.bidirectional*self.num_layers, x.size(0), self.hidden_size).requires_grad_()\n",
    "        c0 = torch.randn(self.bidirectional*self.num_layers, x.size(0), self.hidden_size).requires_grad_()\n",
    "        output, (_, _) = self.lstm(x, (h0.detach(), c0.detach()))\n",
    "        # output = output.contiguous().view(x.size(0), x.size(1), 2, self.hidden_size)\n",
    "        # output = torch.mean(output,dim=2)\n",
    "        # print(output.size())\n",
    "        return self.fc(output[:, :, :])"
   ],
   "metadata": {
    "collapsed": false,
    "pycharm": {
     "name": "#%%\n"
    }
   }
  },
  {
   "cell_type": "code",
   "execution_count": 96,
   "outputs": [
    {
     "data": {
      "text/plain": "torch.Size([1, 335, 1])"
     },
     "execution_count": 96,
     "metadata": {},
     "output_type": "execute_result"
    }
   ],
   "source": [
    "model = LstmModel()\n",
    "model(train_tensor).size()"
   ],
   "metadata": {
    "collapsed": false,
    "pycharm": {
     "name": "#%%\n"
    }
   }
  },
  {
   "cell_type": "code",
   "execution_count": 97,
   "outputs": [
    {
     "name": "stdout",
     "output_type": "stream",
     "text": [
      "Epoch [50/1500], Loss: 6301422.5000\n",
      "Epoch [100/1500], Loss: 5200031.5000\n",
      "Epoch [150/1500], Loss: 4254151.5000\n",
      "Epoch [200/1500], Loss: 3449186.5000\n",
      "Epoch [250/1500], Loss: 2766157.2500\n",
      "Epoch [300/1500], Loss: 2197035.0000\n",
      "Epoch [350/1500], Loss: 1722692.7500\n",
      "Epoch [400/1500], Loss: 1336736.6250\n",
      "Epoch [450/1500], Loss: 1022974.2500\n",
      "Epoch [500/1500], Loss: 772660.8750\n",
      "Epoch [550/1500], Loss: 574936.6250\n",
      "Epoch [600/1500], Loss: 423565.1250\n",
      "Epoch [650/1500], Loss: 288541.9062\n",
      "Epoch [700/1500], Loss: 204283.7969\n",
      "Epoch [750/1500], Loss: 142855.6719\n",
      "Epoch [800/1500], Loss: 98134.4453\n",
      "Epoch [850/1500], Loss: 66346.0469\n",
      "Epoch [900/1500], Loss: 45789.6406\n",
      "Epoch [950/1500], Loss: 29004.1309\n",
      "Epoch [1000/1500], Loss: 20190.9453\n",
      "Epoch [1050/1500], Loss: 12372.7256\n",
      "Epoch [1100/1500], Loss: 9620.9795\n",
      "Epoch [1150/1500], Loss: 7874.3281\n",
      "Epoch [1200/1500], Loss: 5085.8472\n",
      "Epoch [1250/1500], Loss: 2980.0425\n",
      "Epoch [1300/1500], Loss: 3778.1970\n",
      "Epoch [1350/1500], Loss: 2363.4355\n",
      "Epoch [1400/1500], Loss: 2380.5210\n",
      "Epoch [1450/1500], Loss: 3742.3889\n",
      "Epoch [1500/1500], Loss: 2867.7437\n",
      "训练完成\n"
     ]
    }
   ],
   "source": [
    "# 超参数设置\n",
    "input_size = 1\n",
    "hidden_size = 100\n",
    "num_layers = 5\n",
    "output_size = 1\n",
    "learning_rate = 0.1\n",
    "num_epochs = 1500\n",
    "\n",
    "# 实例化模型\n",
    "model = LstmModel(input_size, hidden_size, num_layers, output_size)\n",
    "\n",
    "# 定义损失函数与优化算法\n",
    "criterion = nn.MSELoss(reduction='mean')\n",
    "optimizer = torch.optim.Adam(model.parameters(), lr=learning_rate)\n",
    "model.train()\n",
    "# 开始进行训练\n",
    "for epoch in range(num_epochs):\n",
    "    outputs = model(train_tensor)\n",
    "    optimizer.zero_grad()\n",
    "    loss = criterion(outputs, train_tensor[:, :, :])\n",
    "    loss.backward()\n",
    "    optimizer.step()\n",
    "\n",
    "    if (epoch+1) % 50 == 0:\n",
    "        print(f'Epoch [{epoch+1}/{num_epochs}], Loss: {loss.item():.4f}')\n",
    "print(\"训练完成\")"
   ],
   "metadata": {
    "collapsed": false,
    "pycharm": {
     "name": "#%%\n"
    }
   }
  },
  {
   "cell_type": "code",
   "execution_count": 99,
   "outputs": [
    {
     "data": {
      "text/plain": "4862.555681818182"
     },
     "execution_count": 99,
     "metadata": {},
     "output_type": "execute_result"
    }
   ],
   "source": [
    "# 模型验证\n",
    "def MSE(Y_ture,Y_predict):\n",
    "    return ((Y_ture - Y_predict)**2).sum()/Y_ture.shape[0]\n",
    "model.eval()\n",
    "test_outputs = model(test_tensor).detach().numpy()\n",
    "print(\"平均：\",MSE(train,train.mean()),MSE(test,test.mean()))\n",
    "MSE(test,test_outputs)"
   ],
   "metadata": {
    "collapsed": false,
    "pycharm": {
     "name": "#%%\n"
    }
   }
  },
  {
   "cell_type": "markdown",
   "source": [],
   "metadata": {
    "collapsed": false,
    "pycharm": {
     "name": "#%% md\n"
    }
   }
  },
  {
   "cell_type": "code",
   "execution_count": 99,
   "outputs": [],
   "source": [],
   "metadata": {
    "collapsed": false,
    "pycharm": {
     "name": "#%%\n"
    }
   }
  },
  {
   "cell_type": "markdown",
   "source": [],
   "metadata": {
    "collapsed": false,
    "pycharm": {
     "name": "#%% md\n"
    }
   }
  },
  {
   "cell_type": "code",
   "execution_count": 99,
   "outputs": [],
   "source": [],
   "metadata": {
    "collapsed": false,
    "pycharm": {
     "name": "#%%\n"
    }
   }
  },
  {
   "cell_type": "code",
   "execution_count": null,
   "outputs": [],
   "source": [
    "# 构建双层LSTMcell\n",
    "# input_size, hidden_size, num_layers, output_size\n",
    "class LstmCellModel(nn.module):\n",
    "    def __init__(self, input_size=1, hidden_size1=100, hidden_size2=50, output=1, batch_first=True):\n",
    "\n",
    "\n",
    "    def forward(self,x):\n",
    "        pass"
   ],
   "metadata": {
    "collapsed": false,
    "pycharm": {
     "name": "#%%\n",
     "is_executing": true
    }
   }
  },
  {
   "cell_type": "code",
   "execution_count": null,
   "outputs": [],
   "source": [],
   "metadata": {
    "collapsed": false,
    "pycharm": {
     "name": "#%%\n",
     "is_executing": true
    }
   }
  },
  {
   "cell_type": "code",
   "execution_count": null,
   "outputs": [],
   "source": [],
   "metadata": {
    "collapsed": false,
    "pycharm": {
     "name": "#%%\n",
     "is_executing": true
    }
   }
  },
  {
   "cell_type": "code",
   "execution_count": null,
   "outputs": [],
   "source": [],
   "metadata": {
    "collapsed": false,
    "pycharm": {
     "name": "#%%\n",
     "is_executing": true
    }
   }
  },
  {
   "cell_type": "code",
   "execution_count": null,
   "outputs": [],
   "source": [],
   "metadata": {
    "collapsed": false,
    "pycharm": {
     "name": "#%%\n",
     "is_executing": true
    }
   }
  },
  {
   "cell_type": "code",
   "execution_count": null,
   "outputs": [],
   "source": [],
   "metadata": {
    "collapsed": false,
    "pycharm": {
     "name": "#%%\n",
     "is_executing": true
    }
   }
  },
  {
   "cell_type": "code",
   "execution_count": null,
   "outputs": [],
   "source": [],
   "metadata": {
    "collapsed": false,
    "pycharm": {
     "name": "#%%\n",
     "is_executing": true
    }
   }
  },
  {
   "cell_type": "code",
   "execution_count": null,
   "outputs": [],
   "source": [],
   "metadata": {
    "collapsed": false,
    "pycharm": {
     "name": "#%%\n",
     "is_executing": true
    }
   }
  },
  {
   "cell_type": "code",
   "execution_count": null,
   "outputs": [],
   "source": [],
   "metadata": {
    "collapsed": false,
    "pycharm": {
     "name": "#%%\n",
     "is_executing": true
    }
   }
  },
  {
   "cell_type": "code",
   "execution_count": 99,
   "outputs": [],
   "source": [],
   "metadata": {
    "collapsed": false,
    "pycharm": {
     "name": "#%%\n"
    }
   }
  },
  {
   "cell_type": "code",
   "execution_count": null,
   "outputs": [],
   "source": [],
   "metadata": {
    "collapsed": false,
    "pycharm": {
     "name": "#%%\n",
     "is_executing": true
    }
   }
  },
  {
   "cell_type": "code",
   "execution_count": null,
   "outputs": [],
   "source": [],
   "metadata": {
    "collapsed": false,
    "pycharm": {
     "name": "#%%\n",
     "is_executing": true
    }
   }
  },
  {
   "cell_type": "code",
   "execution_count": null,
   "outputs": [],
   "source": [],
   "metadata": {
    "collapsed": false,
    "pycharm": {
     "name": "#%%\n",
     "is_executing": true
    }
   }
  },
  {
   "cell_type": "code",
   "execution_count": null,
   "outputs": [],
   "source": [],
   "metadata": {
    "collapsed": false,
    "pycharm": {
     "name": "#%%\n",
     "is_executing": true
    }
   }
  },
  {
   "cell_type": "code",
   "execution_count": null,
   "outputs": [],
   "source": [],
   "metadata": {
    "collapsed": false,
    "pycharm": {
     "name": "#%%\n",
     "is_executing": true
    }
   }
  },
  {
   "cell_type": "code",
   "execution_count": null,
   "outputs": [],
   "source": [],
   "metadata": {
    "collapsed": false,
    "pycharm": {
     "name": "#%%\n",
     "is_executing": true
    }
   }
  },
  {
   "cell_type": "code",
   "execution_count": null,
   "outputs": [],
   "source": [],
   "metadata": {
    "collapsed": false,
    "pycharm": {
     "name": "#%%\n",
     "is_executing": true
    }
   }
  },
  {
   "cell_type": "code",
   "execution_count": null,
   "outputs": [],
   "source": [],
   "metadata": {
    "collapsed": false,
    "pycharm": {
     "name": "#%%\n",
     "is_executing": true
    }
   }
  },
  {
   "cell_type": "code",
   "execution_count": null,
   "outputs": [],
   "source": [],
   "metadata": {
    "collapsed": false,
    "pycharm": {
     "name": "#%%\n",
     "is_executing": true
    }
   }
  },
  {
   "cell_type": "code",
   "execution_count": null,
   "outputs": [],
   "source": [],
   "metadata": {
    "collapsed": false,
    "pycharm": {
     "name": "#%%\n",
     "is_executing": true
    }
   }
  },
  {
   "cell_type": "code",
   "execution_count": null,
   "outputs": [],
   "source": [],
   "metadata": {
    "collapsed": false,
    "pycharm": {
     "name": "#%%\n",
     "is_executing": true
    }
   }
  },
  {
   "cell_type": "code",
   "execution_count": null,
   "outputs": [],
   "source": [],
   "metadata": {
    "collapsed": false,
    "pycharm": {
     "name": "#%%\n",
     "is_executing": true
    }
   }
  },
  {
   "cell_type": "code",
   "execution_count": 99,
   "outputs": [],
   "source": [],
   "metadata": {
    "collapsed": false,
    "pycharm": {
     "name": "#%%\n"
    }
   }
  },
  {
   "cell_type": "code",
   "execution_count": 99,
   "outputs": [],
   "source": [],
   "metadata": {
    "collapsed": false,
    "pycharm": {
     "name": "#%%\n"
    }
   }
  }
 ],
 "metadata": {
  "kernelspec": {
   "display_name": "Python 3",
   "language": "python",
   "name": "python3"
  },
  "language_info": {
   "codemirror_mode": {
    "name": "ipython",
    "version": 2
   },
   "file_extension": ".py",
   "mimetype": "text/x-python",
   "name": "python",
   "nbconvert_exporter": "python",
   "pygments_lexer": "ipython2",
   "version": "2.7.6"
  }
 },
 "nbformat": 4,
 "nbformat_minor": 0
}