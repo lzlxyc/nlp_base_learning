{
 "cells": [
  {
   "cell_type": "code",
   "execution_count": 2,
   "metadata": {
    "collapsed": true,
    "pycharm": {
     "name": "#%%\n"
    },
    "ExecuteTime": {
     "end_time": "2024-02-26T15:04:10.019598200Z",
     "start_time": "2024-02-26T15:03:50.313196400Z"
    }
   },
   "outputs": [],
   "source": [
    "import pandas as pd\n",
    "import numpy as np\n",
    "import matplotlib\n",
    "import matplotlib.pyplot as plt\n",
    "import torch\n",
    "from torch import nn\n",
    "from torch.nn import LSTM, GRU, LSTMCell"
   ]
  },
  {
   "cell_type": "code",
   "outputs": [],
   "source": [
    "def plot_fit(y_test, y_pred):\n",
    "    plt.figure(figsize=(4,2))\n",
    "    plt.plot(y_test, color=\"red\", label=\"actual\")\n",
    "    plt.plot(y_pred, color=\"blue\", label=\"predict\")\n",
    "    plt.title(f\"true--pred\")\n",
    "    plt.xlabel(\"Time\")\n",
    "    plt.ylabel('power')\n",
    "    plt.legend()\n",
    "    plt.show()"
   ],
   "metadata": {
    "collapsed": false,
    "ExecuteTime": {
     "end_time": "2024-02-26T15:10:18.589745700Z",
     "start_time": "2024-02-26T15:10:18.560813700Z"
    }
   },
   "execution_count": 28
  },
  {
   "cell_type": "code",
   "execution_count": 3,
   "outputs": [
    {
     "name": "stdout",
     "output_type": "stream",
     "text": [
      "         Date   Close\n",
      "0  2017-01-04  2742.0\n",
      "1  2017-01-05  2738.0\n"
     ]
    }
   ],
   "source": [
    "import pandas as pd\n",
    "\n",
    "# 创建包含数据的字典\n",
    "data = {\n",
    "    'Date': ['2017-01-04', '2017-01-05', '2017-01-06', '2017-01-10', '2017-01-11'],\n",
    "    'Close': [2742.0, 2738.0, 2740.0, 2748.0, 2745.0]\n",
    "}\n",
    "\n",
    "# 使用字典创建Pandas数据框\n",
    "df = pd.DataFrame(data)\n",
    "df = pd.concat([df]*100,axis=0)\n",
    "# 打印输出整理后的数据框\n",
    "print(df.head(2))"
   ],
   "metadata": {
    "collapsed": false,
    "pycharm": {
     "name": "#%%\n"
    },
    "ExecuteTime": {
     "end_time": "2024-02-26T15:04:14.028609800Z",
     "start_time": "2024-02-26T15:04:13.677412700Z"
    }
   }
  },
  {
   "cell_type": "code",
   "execution_count": 4,
   "outputs": [],
   "source": [
    "# 数据准备\n",
    "time_data = df[['Close']].values.astype('float32')\n",
    "train_size = int(len(time_data) * 0.67)\n",
    "test_size = len(time_data) - train_size\n",
    "train, test = time_data[:train_size], time_data[train_size:]\n",
    "# 转为tensor[batch_size, seq_len, emb_size]\n",
    "train_tensor = torch.FloatTensor(train).view(-1, train.shape[0], 1)\n",
    "test_tensor = torch.FloatTensor(test).view(-1, test.shape[0], 1)"
   ],
   "metadata": {
    "collapsed": false,
    "pycharm": {
     "name": "#%%\n"
    },
    "ExecuteTime": {
     "end_time": "2024-02-26T15:04:17.192321300Z",
     "start_time": "2024-02-26T15:04:16.820316900Z"
    }
   }
  },
  {
   "cell_type": "code",
   "execution_count": 5,
   "outputs": [
    {
     "data": {
      "text/plain": "torch.Size([1, 165, 1])"
     },
     "execution_count": 5,
     "metadata": {},
     "output_type": "execute_result"
    }
   ],
   "source": [
    "test_tensor.shape"
   ],
   "metadata": {
    "collapsed": false,
    "pycharm": {
     "name": "#%%\n"
    },
    "ExecuteTime": {
     "end_time": "2024-02-26T15:04:19.139155500Z",
     "start_time": "2024-02-26T15:04:19.092238100Z"
    }
   }
  },
  {
   "cell_type": "code",
   "execution_count": 6,
   "outputs": [],
   "source": [
    "# 定义网路架构LSTM\n",
    "# input_size   hidden_size  num_layers out_size\n",
    "class LstmModel(nn.Module):\n",
    "    def __init__(self,input_size=1, hidden_size=50, num_layers=1, out_size=1, bidirectional=False, batch_first=True):\n",
    "        super().__init__()\n",
    "        self.num_layers = num_layers\n",
    "        self.hidden_size = hidden_size\n",
    "        self.bidirectional = 2 if bidirectional else 1\n",
    "        self.lstm = LSTM(input_size,hidden_size,num_layers,batch_first=batch_first, bidirectional=bidirectional)\n",
    "        self.fc = nn.Linear(self.bidirectional*hidden_size, out_size)\n",
    "\n",
    "    def forward(self,x):\n",
    "        h0 = torch.randn(self.bidirectional*self.num_layers, x.size(0), self.hidden_size).requires_grad_()\n",
    "        c0 = torch.randn(self.bidirectional*self.num_layers, x.size(0), self.hidden_size).requires_grad_()\n",
    "        output, (_, _) = self.lstm(x, (h0.detach(), c0.detach()))\n",
    "        # output = output.contiguous().view(x.size(0), x.size(1), 2, self.hidden_size)\n",
    "        # output = torch.mean(output,dim=2)\n",
    "        # print(output.size())\n",
    "        return self.fc(output[:, :, :])"
   ],
   "metadata": {
    "collapsed": false,
    "pycharm": {
     "name": "#%%\n"
    },
    "ExecuteTime": {
     "end_time": "2024-02-26T15:04:22.558802900Z",
     "start_time": "2024-02-26T15:04:22.536823200Z"
    }
   }
  },
  {
   "cell_type": "code",
   "execution_count": 7,
   "outputs": [
    {
     "data": {
      "text/plain": "torch.Size([1, 335, 1])"
     },
     "execution_count": 7,
     "metadata": {},
     "output_type": "execute_result"
    }
   ],
   "source": [
    "model = LstmModel()\n",
    "model(train_tensor).size()"
   ],
   "metadata": {
    "collapsed": false,
    "pycharm": {
     "name": "#%%\n"
    },
    "ExecuteTime": {
     "end_time": "2024-02-26T15:04:26.183296300Z",
     "start_time": "2024-02-26T15:04:25.421336Z"
    }
   }
  },
  {
   "cell_type": "code",
   "execution_count": 27,
   "outputs": [
    {
     "name": "stdout",
     "output_type": "stream",
     "text": [
      "Epoch [50/500], Loss: 442024.5625\n",
      "Epoch [100/500], Loss: 6383.5776\n",
      "Epoch [150/500], Loss: 4284.8779\n",
      "Epoch [200/500], Loss: 10132.8994\n",
      "Epoch [250/500], Loss: 4268.9644\n",
      "Epoch [300/500], Loss: 26715.2598\n",
      "Epoch [350/500], Loss: 6195.5405\n",
      "Epoch [400/500], Loss: 4033.9456\n",
      "Epoch [450/500], Loss: 3686.0361\n",
      "Epoch [500/500], Loss: 12781.1855\n",
      "训练完成\n"
     ]
    }
   ],
   "source": [
    "# 超参数设置\n",
    "input_size = 1\n",
    "hidden_size = 100\n",
    "num_layers = 3\n",
    "output_size = 1\n",
    "learning_rate = 1\n",
    "num_epochs = 500\n",
    "\n",
    "# 实例化模型\n",
    "model = LstmModel(input_size, hidden_size, num_layers, output_size)\n",
    "\n",
    "# 定义损失函数与优化算法\n",
    "criterion = nn.MSELoss(reduction='mean')\n",
    "optimizer = torch.optim.Adam(model.parameters(), lr=learning_rate)\n",
    "model.train()\n",
    "# 开始进行训练\n",
    "for epoch in range(num_epochs):\n",
    "    outputs = model(train_tensor)\n",
    "    optimizer.zero_grad()\n",
    "    loss = criterion(outputs, train_tensor[:, :, :])\n",
    "    loss.backward()\n",
    "    optimizer.step()\n",
    "\n",
    "    if (epoch+1) % 50 == 0:\n",
    "        print(f'Epoch [{epoch+1}/{num_epochs}], Loss: {loss.item():.4f}')\n",
    "print(\"训练完成\")"
   ],
   "metadata": {
    "collapsed": false,
    "pycharm": {
     "name": "#%%\n"
    },
    "ExecuteTime": {
     "end_time": "2024-02-26T15:09:57.714724500Z",
     "start_time": "2024-02-26T15:09:42.123855200Z"
    }
   }
  },
  {
   "cell_type": "code",
   "execution_count": 30,
   "outputs": [
    {
     "data": {
      "text/plain": "<Figure size 400x200 with 1 Axes>",
      "image/png": "[encoded data removed]"
     },
     "metadata": {},
     "output_type": "display_data"
    },
    {
     "data": {
      "text/plain": "1644153.6"
     },
     "execution_count": 30,
     "metadata": {},
     "output_type": "execute_result"
    }
   ],
   "source": [
    "# 模型验证\n",
    "def MSE(Y_ture,Y_predict):\n",
    "    plot_fit(Y_ture,Y_predict)\n",
    "    return ((Y_ture - Y_predict)**2).sum()/Y_ture.shape[0]\n",
    "model.eval()\n",
    "test_outputs = model(test_tensor).detach().numpy()\n",
    "test_outputs = list(test_outputs[0,:,0])\n",
    "# print(\"平均：\",MSE(train,train.mean()),MSE(test,test.mean()))\n",
    "MSE(test,test_outputs)"
   ],
   "metadata": {
    "collapsed": false,
    "pycharm": {
     "name": "#%%\n"
    },
    "ExecuteTime": {
     "end_time": "2024-02-26T15:10:54.797252700Z",
     "start_time": "2024-02-26T15:10:54.580852100Z"
    }
   }
  },
  {
   "cell_type": "markdown",
   "source": [],
   "metadata": {
    "collapsed": false,
    "pycharm": {
     "name": "#%% md\n"
    }
   }
  },
  {
   "cell_type": "markdown",
   "source": [],
   "metadata": {
    "collapsed": false,
    "pycharm": {
     "name": "#%% md\n"
    }
   }
  },
  {
   "cell_type": "code",
   "execution_count": 30,
   "outputs": [],
   "source": [],
   "metadata": {
    "collapsed": false,
    "pycharm": {
     "name": "#%%\n"
    },
    "ExecuteTime": {
     "end_time": "2024-02-26T15:11:25.575631Z",
     "start_time": "2024-02-26T15:11:25.549704500Z"
    }
   }
  },
  {
   "cell_type": "code",
   "execution_count": null,
   "outputs": [],
   "source": [
    "# 构建双层LSTMcell\n",
    "# input_size, hidden_size, num_layers, output_size\n",
    "class LstmCellModel(nn.module):\n",
    "    def __init__(self, input_size=1, hidden_size1=100, hidden_size2=50, output_size=1, dropout=0.1):\n",
    "        self.input_size = input_size\n",
    "        self.hidden_size1 = hidden_size1\n",
    "        self.hidden_size2 = hidden_size2\n",
    "        self.output_size = output_size\n",
    "        self.lstm0 = nn.LSTMCell(input_size, hidden_size1)\n",
    "        self.lstm1 = nn.LSTMCell(hidden_size1, hidden_size2)\n",
    "        self.fc = nn.Linear(hidden_size2, output_size)\n",
    "        self.dropout = nn.Dropout(dropout)\n",
    "        \n",
    "    def forward(self,x):\n",
    "        batch_size, seq_len = x.size(0), x.size(1)\n",
    "        # 四个初始化参数\n",
    "        h_10 = torch.randon(batch_size, seq_len, self.hidden_size1).requires_grad_()\n",
    "        c_10 = torch.randon(batch_size, seq_len, self.hidden_size1).requires_grad_()\n",
    "        h_11 = torch.randon(batch_size, seq_len, self.hidden_size2).requires_grad_()\n",
    "        c_11 = torch.randon(batch_size, seq_len, self.hidden_size2).requires_grad_()\n",
    "        \n",
    "        outputs = []\n",
    "        for t in range(seq_len): # 遍历每个时间步\n",
    "            h_10, c_10 = self.lstm0(x[:, t, :], (h_10, c_10))\n",
    "            h_10, c_10 = self.dropout(h_10), self.dropout(c_10)\n",
    "            h_11, c_11 = self.lstm1(h_10, (h_11, c_11))\n",
    "            h_11, c_11 = self.dropout(h_11), self.dropout(c_11)\n",
    "            \n",
    "            outputs.append(h_11)\n",
    "        \n",
    "        return self.fc(outputs[-1])\n",
    "        \n",
    "             "
   ],
   "metadata": {
    "collapsed": false,
    "pycharm": {
     "name": "#%%\n",
     "is_executing": true
    }
   }
  },
  {
   "cell_type": "code",
   "execution_count": null,
   "outputs": [],
   "source": [],
   "metadata": {
    "collapsed": false,
    "pycharm": {
     "name": "#%%\n",
     "is_executing": true
    }
   }
  },
  {
   "cell_type": "code",
   "execution_count": null,
   "outputs": [],
   "source": [],
   "metadata": {
    "collapsed": false,
    "pycharm": {
     "name": "#%%\n",
     "is_executing": true
    }
   }
  },
  {
   "cell_type": "code",
   "execution_count": null,
   "outputs": [],
   "source": [],
   "metadata": {
    "collapsed": false,
    "pycharm": {
     "name": "#%%\n",
     "is_executing": true
    }
   }
  },
  {
   "cell_type": "code",
   "execution_count": null,
   "outputs": [],
   "source": [],
   "metadata": {
    "collapsed": false,
    "pycharm": {
     "name": "#%%\n",
     "is_executing": true
    }
   }
  },
  {
   "cell_type": "code",
   "execution_count": null,
   "outputs": [],
   "source": [],
   "metadata": {
    "collapsed": false,
    "pycharm": {
     "name": "#%%\n",
     "is_executing": true
    }
   }
  },
  {
   "cell_type": "code",
   "execution_count": null,
   "outputs": [],
   "source": [],
   "metadata": {
    "collapsed": false,
    "pycharm": {
     "name": "#%%\n",
     "is_executing": true
    }
   }
  },
  {
   "cell_type": "code",
   "execution_count": null,
   "outputs": [],
   "source": [],
   "metadata": {
    "collapsed": false,
    "pycharm": {
     "name": "#%%\n",
     "is_executing": true
    }
   }
  },
  {
   "cell_type": "code",
   "execution_count": null,
   "outputs": [],
   "source": [],
   "metadata": {
    "collapsed": false,
    "pycharm": {
     "name": "#%%\n",
     "is_executing": true
    }
   }
  },
  {
   "cell_type": "code",
   "execution_count": 99,
   "outputs": [],
   "source": [],
   "metadata": {
    "collapsed": false,
    "pycharm": {
     "name": "#%%\n"
    }
   }
  },
  {
   "cell_type": "code",
   "execution_count": null,
   "outputs": [],
   "source": [],
   "metadata": {
    "collapsed": false,
    "pycharm": {
     "name": "#%%\n",
     "is_executing": true
    }
   }
  },
  {
   "cell_type": "code",
   "execution_count": null,
   "outputs": [],
   "source": [],
   "metadata": {
    "collapsed": false,
    "pycharm": {
     "name": "#%%\n",
     "is_executing": true
    }
   }
  },
  {
   "cell_type": "code",
   "execution_count": null,
   "outputs": [],
   "source": [],
   "metadata": {
    "collapsed": false,
    "pycharm": {
     "name": "#%%\n",
     "is_executing": true
    }
   }
  },
  {
   "cell_type": "code",
   "execution_count": null,
   "outputs": [],
   "source": [],
   "metadata": {
    "collapsed": false,
    "pycharm": {
     "name": "#%%\n",
     "is_executing": true
    }
   }
  },
  {
   "cell_type": "code",
   "execution_count": null,
   "outputs": [],
   "source": [],
   "metadata": {
    "collapsed": false,
    "pycharm": {
     "name": "#%%\n",
     "is_executing": true
    }
   }
  },
  {
   "cell_type": "code",
   "execution_count": null,
   "outputs": [],
   "source": [],
   "metadata": {
    "collapsed": false,
    "pycharm": {
     "name": "#%%\n",
     "is_executing": true
    }
   }
  },
  {
   "cell_type": "code",
   "execution_count": null,
   "outputs": [],
   "source": [],
   "metadata": {
    "collapsed": false,
    "pycharm": {
     "name": "#%%\n",
     "is_executing": true
    }
   }
  },
  {
   "cell_type": "code",
   "execution_count": null,
   "outputs": [],
   "source": [],
   "metadata": {
    "collapsed": false,
    "pycharm": {
     "name": "#%%\n",
     "is_executing": true
    }
   }
  },
  {
   "cell_type": "code",
   "execution_count": null,
   "outputs": [],
   "source": [],
   "metadata": {
    "collapsed": false,
    "pycharm": {
     "name": "#%%\n",
     "is_executing": true
    }
   }
  },
  {
   "cell_type": "code",
   "execution_count": null,
   "outputs": [],
   "source": [],
   "metadata": {
    "collapsed": false,
    "pycharm": {
     "name": "#%%\n",
     "is_executing": true
    }
   }
  },
  {
   "cell_type": "code",
   "execution_count": null,
   "outputs": [],
   "source": [],
   "metadata": {
    "collapsed": false,
    "pycharm": {
     "name": "#%%\n",
     "is_executing": true
    }
   }
  },
  {
   "cell_type": "code",
   "execution_count": null,
   "outputs": [],
   "source": [],
   "metadata": {
    "collapsed": false,
    "pycharm": {
     "name": "#%%\n",
     "is_executing": true
    }
   }
  },
  {
   "cell_type": "code",
   "execution_count": 99,
   "outputs": [],
   "source": [],
   "metadata": {
    "collapsed": false,
    "pycharm": {
     "name": "#%%\n"
    }
   }
  },
  {
   "cell_type": "code",
   "execution_count": 99,
   "outputs": [],
   "source": [],
   "metadata": {
    "collapsed": false,
    "pycharm": {
     "name": "#%%\n"
    }
   }
  }
 ],
 "metadata": {
  "kernelspec": {
   "display_name": "Python 3",
   "language": "python",
   "name": "python3"
  },
  "language_info": {
   "codemirror_mode": {
    "name": "ipython",
    "version": 2
   },
   "file_extension": ".py",
   "mimetype": "text/x-python",
   "name": "python",
   "nbconvert_exporter": "python",
   "pygments_lexer": "ipython2",
   "version": "2.7.6"
  }
 },
 "nbformat": 4,
 "nbformat_minor": 0
}
