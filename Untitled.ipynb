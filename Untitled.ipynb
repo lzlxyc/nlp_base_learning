{
 "cells": [
  {
   "cell_type": "code",
   "outputs": [],
   "source": [
    "import torch"
   ],
   "metadata": {
    "collapsed": false,
    "ExecuteTime": {
     "end_time": "2024-02-22T15:20:52.301628300Z",
     "start_time": "2024-02-22T15:20:32.637987500Z"
    }
   },
   "id": "b58c40552c7d45df",
   "execution_count": 1
  },
  {
   "cell_type": "code",
   "outputs": [],
   "source": [],
   "metadata": {
    "collapsed": false
   },
   "id": "83380d5a20a17132"
  }
 ],
 "metadata": {
  "kernelspec": {
   "name": "python3",
   "language": "python",
   "display_name": "Python 3 (ipykernel)"
  }
 },
 "nbformat": 4,
 "nbformat_minor": 5
}
